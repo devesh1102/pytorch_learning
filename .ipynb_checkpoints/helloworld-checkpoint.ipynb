{
 "cells": [
  {
   "cell_type": "markdown",
   "metadata": {},
   "source": [
    "lecture 1(https://www.youtube.com/watch?v=BzcBsTou0C0&feature=emb_logo)"
   ]
  },
  {
   "cell_type": "code",
   "execution_count": 2,
   "metadata": {},
   "outputs": [],
   "source": [
    "import torch\n"
   ]
  },
  {
   "cell_type": "markdown",
   "metadata": {},
   "source": [
    "tensor is basically just a way to represent a array.\n",
    "to get shape use shape\n",
    "to get a tensors of zeros use zeros"
   ]
  },
  {
   "cell_type": "code",
   "execution_count": 7,
   "metadata": {},
   "outputs": [
    {
     "name": "stdout",
     "output_type": "stream",
     "text": [
      "tensor([ 2,  6, 27])\n",
      "tensor([[0., 0., 0.],\n",
      "        [0., 0., 0.]])\n",
      "torch.Size([2, 3])\n"
     ]
    }
   ],
   "source": [
    "x = torch.tensor([1,2,3])\n",
    "y = torch.tensor([2,3,9])\n",
    "print(x*y)\n",
    "z= torch.zeros([2,3])\n",
    "print(z)\n",
    "print(z.shape)"
   ]
  },
  {
   "cell_type": "raw",
   "metadata": {},
   "source": [
    "for random initialization use rand\n"
   ]
  },
  {
   "cell_type": "code",
   "execution_count": 8,
   "metadata": {},
   "outputs": [
    {
     "name": "stdout",
     "output_type": "stream",
     "text": [
      "tensor([[0.0981, 0.3323, 0.8521, 0.6929],\n",
      "        [0.9863, 0.2701, 0.8065, 0.5035]])\n"
     ]
    }
   ],
   "source": [
    "random= torch.rand([2,4])\n",
    "print(random)"
   ]
  },
  {
   "cell_type": "markdown",
   "metadata": {},
   "source": [
    "to reshape use view "
   ]
  },
  {
   "cell_type": "code",
   "execution_count": 11,
   "metadata": {},
   "outputs": [
    {
     "name": "stdout",
     "output_type": "stream",
     "text": [
      "tensor([[0.0981, 0.3323, 0.8521, 0.6929, 0.9863, 0.2701, 0.8065, 0.5035]])\n",
      "tensor([[0.0981],\n",
      "        [0.3323],\n",
      "        [0.8521],\n",
      "        [0.6929],\n",
      "        [0.9863],\n",
      "        [0.2701],\n",
      "        [0.8065],\n",
      "        [0.5035]])\n"
     ]
    }
   ],
   "source": [
    "print(random)\n",
    "random = random.view([8,1])\n",
    "print(random)"
   ]
  },
  {
   "cell_type": "code",
   "execution_count": null,
   "metadata": {},
   "outputs": [],
   "source": []
  }
 ],
 "metadata": {
  "kernelspec": {
   "display_name": "Python 3",
   "language": "python",
   "name": "python3"
  },
  "language_info": {
   "codemirror_mode": {
    "name": "ipython",
    "version": 3
   },
   "file_extension": ".py",
   "mimetype": "text/x-python",
   "name": "python",
   "nbconvert_exporter": "python",
   "pygments_lexer": "ipython3",
   "version": "3.8.5"
  }
 },
 "nbformat": 4,
 "nbformat_minor": 4
}
